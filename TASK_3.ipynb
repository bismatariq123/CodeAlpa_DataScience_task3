{
  "nbformat": 4,
  "nbformat_minor": 0,
  "metadata": {
    "colab": {
      "provenance": [],
      "authorship_tag": "ABX9TyN/8EZCuh0OAbmuF0GaxUVe",
      "include_colab_link": true
    },
    "kernelspec": {
      "name": "python3",
      "display_name": "Python 3"
    },
    "language_info": {
      "name": "python"
    }
  },
  "cells": [
    {
      "cell_type": "markdown",
      "metadata": {
        "id": "view-in-github",
        "colab_type": "text"
      },
      "source": [
        "<a href=\"https://colab.research.google.com/github/bismatariq123/CodeAlpa_DataScience_task3/blob/main/TASK_3.ipynb\" target=\"_parent\"><img src=\"https://colab.research.google.com/assets/colab-badge.svg\" alt=\"Open In Colab\"/></a>"
      ]
    },
    {
      "cell_type": "code",
      "execution_count": null,
      "metadata": {
        "id": "AN8LKar61rqb"
      },
      "outputs": [],
      "source": [
        "import pandas as pd\n",
        "import matplotlib.pyplot as plt\n",
        "import seaborn as sns\n",
        "\n",
        "# Load the dataset\n",
        "file_path = '/content/Unemployment in India.csv'\n",
        "data = pd.read_csv(file_path)\n",
        "\n",
        "# Strip leading/trailing spaces from column names\n",
        "data.columns = data.columns.str.strip()\n",
        "\n",
        "# Update column names for clarity\n",
        "date_column_name = 'Date'\n",
        "unemployment_column_name = 'Estimated Unemployment Rate (%)'\n",
        "\n",
        "# Convert the date column to datetime\n",
        "data[date_column_name] = pd.to_datetime(data[date_column_name], errors='coerce')\n",
        "\n",
        "# Drop rows with invalid dates\n",
        "data = data.dropna(subset=[date_column_name])\n",
        "\n",
        "# Set the date column as the index\n",
        "data.set_index(date_column_name, inplace=True)\n",
        "\n",
        "# Plot the unemployment rate\n",
        "plt.figure(figsize=(10, 5))\n",
        "sns.lineplot(data=data, x=data.index, y=unemployment_column_name)\n",
        "plt.title('India Unemployment Rate during COVID-19')\n",
        "plt.xlabel('Date')\n",
        "plt.ylabel('Unemployment Rate (%)')\n",
        "plt.grid(True)\n",
        "plt.tight_layout()\n",
        "plt.show()"
      ]
    }
  ]
}